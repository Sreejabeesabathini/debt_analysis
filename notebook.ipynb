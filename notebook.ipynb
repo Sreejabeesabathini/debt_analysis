{
 "cells": [
  {
   "cell_type": "markdown",
   "id": "053f4093-7bf2-4c71-a6b3-5da351d737c0",
   "metadata": {},
   "source": [
    "# Understanding the data\r\n",
    "- DT.GPA.DPPG: Average grace period on new external debt commitments (years)\r\n",
    "- DT.GPA.OFFT: Average grace period on new external debt commitments, official (years)\r\n",
    "- DT.GPA.PRVT: Average grace period on new external debt commitments, private (years)\r\n",
    "- DT.GRE.DPPG: Average grant element on new external debt commitments (%)\r\n",
    "- DT.GRE.OFFT: Average grant element on new external debt commitments, official (%)\r\n",
    "- DT.GRE.PRVT: Average grant element on new external debt commitments, private (%)\r\n",
    "- DT.INR.DPPG: Average interest on new external debt commitments (%)\r\n",
    "- DT.INR.OFFT: Average interest on new external debt commitments, official (%)\r\n",
    "- DT.INR.PRVT: Average interest on new external debt commitments, private (%)\r\n",
    "- DT.MAT.DPPG: Average maturity on new external debt commitments (years)\r\n",
    "- DT.MAT.OFFT: Average maturity on new external debt commitments, official (years)\r\n",
    "- DT.MAT.PRVT: Average maturity on new external debt commitments, private (years)\r\n",
    "- DT.AMT: Amount\r\n",
    "- DT.DIS: Disbursements\r\n",
    "- DT.DOD: Debt outstanding and disbursed\r\n",
    "- DT.INT: Interest payments\r\n",
    "- DT.NFL: Net flows\r\n",
    "- DT.NTR: Net transfers\r\n",
    "- DT.TDS: Total debt service\r\n",
    "- DT.DOD.ALLC.ZS: Concessional debt (% of total external debt)\r\n",
    "- DT.CUR.OTHC.ZS: Currency composition of PPG debt, all other currencies (%)\r\n",
    "- DT.CUR.DMAK.ZS: Currency composition of PPG debt, Deutsche mark (%)\r\n",
    "- DT.CUR.EURO.ZS: Currency composition of PPG debt, Euro (%)\r\n",
    "- DT.CUR.FFRC.ZS: Currency composition of PPG debt, French franc (%)\r\n",
    "- DT.CUR.JYEN.ZS: Currency composition of PPG debt, Japanese yen (%)\r\n",
    "- DT.CUR.MULC.ZS: Currency composition of PPG debt, Multiple currencies (%)\r\n",
    "- DT.CUR.UKPS.ZS: Currency composition of PPG debt, Pound sterling (%)\r\n",
    "- DT.CUR.SDRW.ZS: Currency composition of PPG debt, SDR (%)\r\n",
    "- DT.CUR.SWFR.ZS: Currency composition of PPG debt, Swiss franc (%)\r\n",
    "- DT.CUR.USDL.ZS: Currency composition of PPG debt, U.S. dollars (%)\r\n",
    "- BN.CAB.XOKA.CD: Current account balance (current US$)\r\n",
    "- DT.DSB.DPPG.CD: Debt buyback (current US$)CD: Debt buyback (current US$)"
   ]
  },
  {
   "cell_type": "markdown",
   "id": "ede415a0-d7f5-4246-bc6e-d2b7f8ff473e",
   "metadata": {},
   "source": [
    "## The following abbreviations are used in the series codes:\n",
    "\n",
    "- PPG: Public and Publicly Guaranteed\n",
    "- DPPG: Public and Publicly Guaranteed Debt\n",
    "- OFFT: Official Creditors\n",
    "- PRVT: Private Creditors\n",
    "- BLAT: Bilateral\n",
    "- MLAT: Multilateral\n",
    "- BLTC: Bilateral Concessional\n",
    "- MLTC: Multilateral Concessional\n",
    "- PBND: Bonds\n",
    "- PCBK: Commercial Banks\n",
    "- PROP: Other Private Creditors\n",
    "- SDR: Special Drawing Rights\n",
    "- ZS: Percentage\n",
    "- CD: Current US Dollars\n",
    "- AMT: Amount\n",
    "- DIS: Disbursements\n",
    "- DOD: Debt Outstanding and Disbursed\n",
    "- INT: Interest Payments\n",
    "- NFL: Net Flows\n",
    "- NTR: Net Transfers\n",
    "- TDS: Total Debt Service"
   ]
  },
  {
   "cell_type": "code",
   "execution_count": null,
   "id": "2d0ed3ff-a7db-4d1d-8645-e67a7cc5fabc",
   "metadata": {},
   "outputs": [],
   "source": []
  },
  {
   "cell_type": "code",
   "execution_count": 50,
   "id": "abbaf435-15c3-4c1b-966d-148868d4ce4c",
   "metadata": {},
   "outputs": [],
   "source": [
    "import pandas as pd\n",
    "import sqlite3\n",
    "import warnings\n",
    "import matplotlib.pyplot as plt\n",
    "warnings.filterwarnings(\"ignore\")"
   ]
  },
  {
   "cell_type": "code",
   "execution_count": 2,
   "id": "d455365c",
   "metadata": {},
   "outputs": [],
   "source": [
    "df = pd.read_csv('filtered_dataset.csv')\n",
    "pd.set_option('display.notebook_repr_html', False)"
   ]
  },
  {
   "cell_type": "code",
   "execution_count": 3,
   "id": "01b7b2a7",
   "metadata": {},
   "outputs": [],
   "source": [
    "def create_connection():\n",
    "    return sqlite3.connect(':memory:')"
   ]
  },
  {
   "cell_type": "code",
   "execution_count": 4,
   "id": "f42a4fce",
   "metadata": {},
   "outputs": [],
   "source": [
    "conn = create_connection()"
   ]
  },
  {
   "cell_type": "code",
   "execution_count": 5,
   "id": "16f85acb",
   "metadata": {},
   "outputs": [
    {
     "data": {
      "text/plain": [
       "77792"
      ]
     },
     "execution_count": 5,
     "metadata": {},
     "output_type": "execute_result"
    }
   ],
   "source": [
    "df.to_sql('filtered_dataset', conn, if_exists='replace', index=False)"
   ]
  },
  {
   "cell_type": "code",
   "execution_count": 6,
   "id": "86744b60",
   "metadata": {},
   "outputs": [],
   "source": [
    "def execute_query(query, connection):\n",
    "    return pd.read_sql_query(query, connection)"
   ]
  },
  {
   "cell_type": "markdown",
   "id": "515cc2d3-4b83-4943-b57b-5888789a23c4",
   "metadata": {},
   "source": [
    "### Find the list of distinct countries."
   ]
  },
  {
   "cell_type": "code",
   "execution_count": 7,
   "id": "7c7829cf",
   "metadata": {},
   "outputs": [
    {
     "data": {
      "text/plain": [
       "  Country Name\n",
       "0  Afghanistan\n",
       "1      Albania\n",
       "2      Algeria\n",
       "3       Angola\n",
       "4    Argentina"
      ]
     },
     "execution_count": 7,
     "metadata": {},
     "output_type": "execute_result"
    }
   ],
   "source": [
    "unique_countries_query = \"SELECT DISTINCT `Country Name` FROM filtered_dataset\"\n",
    "unique_countries = pd.read_sql_query(unique_countries_query, conn)\n",
    "unique_countries.head()"
   ]
  },
  {
   "cell_type": "code",
   "execution_count": 8,
   "id": "b8fe20ac",
   "metadata": {},
   "outputs": [],
   "source": [
    "unique_countries.to_csv('unique_countries.txt', index=False, header=None, sep='\\t')"
   ]
  },
  {
   "cell_type": "markdown",
   "id": "52a988e2-7b08-41f0-a338-2ffc064bad21",
   "metadata": {},
   "source": [
    "### Find the list of unique series codes."
   ]
  },
  {
   "cell_type": "code",
   "execution_count": 9,
   "id": "4b20edd8",
   "metadata": {},
   "outputs": [
    {
     "data": {
      "text/plain": [
       "   Series Code\n",
       "0  DT.GPA.DPPG\n",
       "1  DT.GPA.OFFT\n",
       "2  DT.GPA.PRVT\n",
       "3  DT.GRE.DPPG\n",
       "4  DT.GRE.OFFT"
      ]
     },
     "execution_count": 9,
     "metadata": {},
     "output_type": "execute_result"
    }
   ],
   "source": [
    "distinct_debt_indicators_query = \"SELECT DISTINCT `Series Code` FROM filtered_dataset\"\n",
    "distinct_debt_indicators = pd.read_sql_query(distinct_debt_indicators_query, conn)\n",
    "distinct_debt_indicators.head()"
   ]
  },
  {
   "cell_type": "code",
   "execution_count": 10,
   "id": "d6b5aa4c",
   "metadata": {},
   "outputs": [],
   "source": [
    "distinct_debt_indicators.to_csv('distinct_debt_indicators.txt', index=False, header=None, sep='\\t')"
   ]
  },
  {
   "cell_type": "markdown",
   "id": "cd6bbcd0-db39-4858-9007-db5ace683c1f",
   "metadata": {},
   "source": [
    "### Find the total debt for each country for the year 2023 in amount."
   ]
  },
  {
   "cell_type": "code",
   "execution_count": 11,
   "id": "513235e5",
   "metadata": {},
   "outputs": [
    {
     "data": {
      "text/plain": [
       "  Country Name     TotalDebt\n",
       "0  Afghanistan  8.787026e+08\n",
       "1      Albania  7.372980e+09\n",
       "2      Algeria  1.000648e+09\n",
       "3       Angola  7.786784e+10\n",
       "4    Argentina  3.046993e+11"
      ]
     },
     "execution_count": 11,
     "metadata": {},
     "output_type": "execute_result"
    }
   ],
   "source": [
    "total_debt_by_country_query = \"\"\"\n",
    "SELECT `Country Name`, SUM(`2023`) as TotalDebt\n",
    "FROM filtered_dataset\n",
    "WHERE `Series Code` LIKE '%AMT%'\n",
    "GROUP BY `Country Name`;\n",
    "\"\"\"\n",
    "\n",
    "total_debt_by_country = pd.read_sql_query(total_debt_by_country_query, conn)\n",
    "total_debt_by_country.head()"
   ]
  },
  {
   "cell_type": "code",
   "execution_count": 12,
   "id": "2e5be841",
   "metadata": {},
   "outputs": [],
   "source": [
    "total_debt_by_country.to_csv('total_debt_by_country_2023.csv', index=False)"
   ]
  },
  {
   "cell_type": "markdown",
   "id": "cf859085-0d7b-4983-ac73-0c1ec4a404db",
   "metadata": {},
   "source": [
    "### Find the total debt for each country for the year 2023."
   ]
  },
  {
   "cell_type": "code",
   "execution_count": 13,
   "id": "06eae335",
   "metadata": {},
   "outputs": [
    {
     "data": {
      "text/plain": [
       "  Country Name     TotalDebt\n",
       "0  Afghanistan  2.796974e+09\n",
       "1      Albania  2.374756e+10\n",
       "2      Algeria  2.433306e+09\n",
       "3       Angola  2.818395e+11\n",
       "4    Argentina  8.673901e+11"
      ]
     },
     "execution_count": 13,
     "metadata": {},
     "output_type": "execute_result"
    }
   ],
   "source": [
    "total_debt_query = \"\"\"\n",
    "SELECT `Country Name`, SUM(`2023`) as TotalDebt\n",
    "FROM filtered_dataset\n",
    "GROUP BY `Country Name`;\n",
    "\"\"\"\n",
    "\n",
    "total_debt = pd.read_sql_query(total_debt_query, conn)\n",
    "total_debt.head()"
   ]
  },
  {
   "cell_type": "code",
   "execution_count": 14,
   "id": "f73fcb89",
   "metadata": {},
   "outputs": [],
   "source": [
    "total_debt.to_csv('total_debt_overall_2023.csv', index=False)"
   ]
  },
  {
   "cell_type": "markdown",
   "id": "35b8e0a2-e5d8-4629-b272-bae4edfccab0",
   "metadata": {},
   "source": [
    "### Find the country with highest debt taken in amount in the year 2023."
   ]
  },
  {
   "cell_type": "code",
   "execution_count": 15,
   "id": "10054101",
   "metadata": {},
   "outputs": [
    {
     "data": {
      "text/plain": [
       "          Country Name     TotalDebt\n",
       "0  Low & middle income  4.240326e+12"
      ]
     },
     "execution_count": 15,
     "metadata": {},
     "output_type": "execute_result"
    }
   ],
   "source": [
    "highest_debt_country_query = \"\"\"\n",
    "SELECT `Country Name`, SUM(`2023`) as TotalDebt\n",
    "FROM filtered_dataset\n",
    "WHERE `Series Code` LIKE '%AMT%'\n",
    "GROUP BY `Country Name`\n",
    "ORDER BY TotalDebt DESC\n",
    "LIMIT 1;\n",
    "\"\"\"\n",
    "\n",
    "highest_debt_country = pd.read_sql_query(highest_debt_country_query, conn)\n",
    "highest_debt_country"
   ]
  },
  {
   "cell_type": "markdown",
   "id": "14baecf2-fe44-45d2-a552-0b9f013cb641",
   "metadata": {},
   "source": [
    "### Find the average debt of each country by series codes."
   ]
  },
  {
   "cell_type": "code",
   "execution_count": 16,
   "id": "3abf4f17",
   "metadata": {},
   "outputs": [
    {
     "data": {
      "text/plain": [
       "           Series Code  AverageDebt\n",
       "0       BM.GSR.TOTL.CD          NaN\n",
       "1       BN.CAB.XOKA.CD          NaN\n",
       "2    BX.GRT.EXTA.CD.DT          NaN\n",
       "3    BX.GRT.TECH.CD.DT          NaN\n",
       "4       BX.GSR.TOTL.CD          NaN\n",
       "..                 ...          ...\n",
       "567     FI.RES.TOTL.CD          NaN\n",
       "568  FI.RES.TOTL.DT.ZS          NaN\n",
       "569     FI.RES.TOTL.MO          NaN\n",
       "570     NY.GNP.MKTP.CD          NaN\n",
       "571        SP.POP.TOTL          NaN\n",
       "\n",
       "[572 rows x 2 columns]"
      ]
     },
     "execution_count": 16,
     "metadata": {},
     "output_type": "execute_result"
    }
   ],
   "source": [
    "average_debt_by_series_code_query = \"\"\"\n",
    "SELECT `Series Code`, AVG(`2023`) as AverageDebt\n",
    "FROM filtered_dataset\n",
    "GROUP BY `Series Code`;\n",
    "\"\"\"\n",
    "\n",
    "average_debt_by_series_code = pd.read_sql_query(average_debt_by_series_code_query, conn)\n",
    "\n",
    "average_debt_by_series_code"
   ]
  },
  {
   "cell_type": "markdown",
   "id": "0462c6a7-863c-4654-8cb8-30526007a2a0",
   "metadata": {},
   "source": [
    "### Find the average debt of each country by series codes (remving null)."
   ]
  },
  {
   "cell_type": "code",
   "execution_count": 17,
   "id": "b9901d33",
   "metadata": {},
   "outputs": [],
   "source": [
    "average_debt_by_series_code_query = \"\"\"\n",
    "SELECT `Series Code`, AVG(`2023`) as Average_Debt\n",
    "FROM filtered_dataset\n",
    "GROUP BY `Series Code`\n",
    "HAVING AVG(`2023`) IS NOT NULL;\n",
    "\"\"\"\n",
    "\n",
    "average_debt_by_series_code = pd.read_sql_query(average_debt_by_series_code_query, conn)\n",
    "average_debt_by_series_code.dropna(subset=['Average_Debt'], inplace=True)"
   ]
  },
  {
   "cell_type": "code",
   "execution_count": 18,
   "id": "1335c4bd",
   "metadata": {},
   "outputs": [
    {
     "data": {
      "text/plain": [
       "           Series Code  Average_Debt\n",
       "0       DT.AMT.BLAT.CD  2.176784e+09\n",
       "1    DT.AMT.BLAT.GG.CD  1.675064e+09\n",
       "2   DT.AMT.BLAT.OPS.CD  6.823171e+08\n",
       "3  DT.AMT.BLAT.PRVG.CD  1.397149e+07\n",
       "4    DT.AMT.BLAT.PS.CD  2.175140e+09"
      ]
     },
     "execution_count": 18,
     "metadata": {},
     "output_type": "execute_result"
    }
   ],
   "source": [
    "average_debt_by_series_code.head()"
   ]
  },
  {
   "cell_type": "code",
   "execution_count": 19,
   "id": "8d9f3c6e",
   "metadata": {},
   "outputs": [],
   "source": [
    "average_debt_by_series_code.to_csv('average_debt_by_series_code.csv', index=False)"
   ]
  },
  {
   "cell_type": "markdown",
   "id": "b48f78bb-ffb4-4166-8bdf-7e29f84ad50c",
   "metadata": {},
   "source": [
    "### Find the countries in the highest order of their principal repayments."
   ]
  },
  {
   "cell_type": "code",
   "execution_count": 20,
   "id": "aee96253",
   "metadata": {},
   "outputs": [],
   "source": [
    "principal_repayments_query = \"\"\"\n",
    "SELECT `Country Name`, `2023` as PrincipalRepayments\n",
    "FROM filtered_dataset\n",
    "WHERE `Series Name` LIKE '%Principal repayments%'\n",
    "AND `2023` IS NOT NULL\n",
    "ORDER BY `2023` DESC;\n",
    "\"\"\"\n",
    "\n",
    "principal_repayments = pd.read_sql_query(principal_repayments_query, conn)"
   ]
  },
  {
   "cell_type": "code",
   "execution_count": 21,
   "id": "d7a0192c",
   "metadata": {},
   "outputs": [
    {
     "data": {
      "text/plain": [
       "          Country Name  PrincipalRepayments\n",
       "0  Low & middle income         8.440000e+11\n",
       "1        Middle income         8.200000e+11\n",
       "2  Upper middle income         6.160000e+11\n",
       "3  Low & middle income         5.630000e+11\n",
       "4        Middle income         5.470000e+11"
      ]
     },
     "execution_count": 21,
     "metadata": {},
     "output_type": "execute_result"
    }
   ],
   "source": [
    "principal_repayments.head()"
   ]
  },
  {
   "cell_type": "code",
   "execution_count": 22,
   "id": "8aeacdce",
   "metadata": {},
   "outputs": [],
   "source": [
    "principal_repayments.to_csv('principal_repayments.csv', index=False)"
   ]
  },
  {
   "cell_type": "code",
   "execution_count": 23,
   "id": "c8216451",
   "metadata": {},
   "outputs": [
    {
     "name": "stdout",
     "output_type": "stream",
     "text": [
      "Country with the highest principal repayment in 2023: Country Name           Low & middle income\n",
      "PrincipalRepayments         844000000000.0\n",
      "Name: 0, dtype: object\n"
     ]
    }
   ],
   "source": [
    "highest_principal_repayment = principal_repayments.iloc[0]\n",
    "print(\"Country with the highest principal repayment in 2023: {}\".format(highest_principal_repayment))"
   ]
  },
  {
   "cell_type": "markdown",
   "id": "b9f213b8-f14a-4c95-b9e0-4ba7031814a2",
   "metadata": {},
   "source": [
    "### Find the total debt series cde wise excluding the repayments."
   ]
  },
  {
   "cell_type": "code",
   "execution_count": 24,
   "id": "c985e453",
   "metadata": {},
   "outputs": [],
   "source": [
    "most_common_debt_indicator_query = \"\"\"\n",
    "SELECT `Series Code`, `Series Name`, SUM(`2023`) as TotalDebt\n",
    "FROM filtered_dataset\n",
    "WHERE `Series Name` NOT LIKE '%Principal repayments%'\n",
    "AND `2023` IS NOT NULL\n",
    "GROUP BY `Series Code`, `Series Name`\n",
    "ORDER BY TotalDebt DESC\n",
    "\"\"\"\n",
    "\n",
    "most_common_debt_indicator = pd.read_sql_query(most_common_debt_indicator_query, conn)"
   ]
  },
  {
   "cell_type": "code",
   "execution_count": 25,
   "id": "0618509a",
   "metadata": {},
   "outputs": [
    {
     "data": {
      "text/plain": [
       "      Series Code                                        Series Name  \\\n",
       "0  DT.TDS.DECT.CD  Debt service on external debt, total (TDS, cur...   \n",
       "1  DT.TDS.DLXF.CD  Debt service on external debt, long-term (TDS,...   \n",
       "2  DT.TDS.DPNG.CD  Debt service on external debt, private nonguar...   \n",
       "3  DT.TDS.PNGC.CD  PNG, commercial banks and other creditors (TDS...   \n",
       "4  DT.AMT.PNGC.CD  PNG, commercial banks and other creditors (AMT...   \n",
       "\n",
       "      TotalDebt  \n",
       "0  6.011122e+12  \n",
       "1  5.819224e+12  \n",
       "2  3.523855e+12  \n",
       "3  2.929574e+12  \n",
       "4  2.475367e+12  "
      ]
     },
     "execution_count": 25,
     "metadata": {},
     "output_type": "execute_result"
    }
   ],
   "source": [
    "most_common_debt_indicator.head()"
   ]
  },
  {
   "cell_type": "code",
   "execution_count": 26,
   "id": "62b86037",
   "metadata": {},
   "outputs": [],
   "source": [
    "most_common_debt_indicator.to_csv('most_common_debt_indicator.csv', index=False)"
   ]
  },
  {
   "cell_type": "code",
   "execution_count": 27,
   "id": "8ee3a956",
   "metadata": {},
   "outputs": [
    {
     "name": "stdout",
     "output_type": "stream",
     "text": [
      "Highest debt indicator Series Name - Debt service on external debt, total (TDS, current US$), Series Code - DT.TDS.DECT.CD and debt is 6011122353657.3\n"
     ]
    }
   ],
   "source": [
    "highest_debt_indicator = most_common_debt_indicator.iloc[0]\n",
    "print(\"Highest debt indicator Series Name - {}, Series Code - {} and debt is {}\".format(highest_debt_indicator[1],\n",
    "                                                                                       highest_debt_indicator[0],\n",
    "                                                                                       highest_debt_indicator[2]))"
   ]
  },
  {
   "cell_type": "markdown",
   "id": "b8ac49c2-ac20-470d-80eb-0df9528755a8",
   "metadata": {},
   "source": [
    "### Find the average interest rate on new external debt commitments for each country in the year 2022, and order the results from highest to lowest average interest rate."
   ]
  },
  {
   "cell_type": "code",
   "execution_count": 28,
   "id": "0e624a3c-36eb-4bdb-ae21-f85913170ae9",
   "metadata": {},
   "outputs": [],
   "source": [
    "average_interest_rate_query = \"\"\"\n",
    "SELECT `Country Name`, AVG(`2022`) as AverageInterestRate\n",
    "FROM filtered_dataset\n",
    "WHERE `Series Code` = 'DT.INR.DPPG'\n",
    "GROUP BY `Country Name`\n",
    "ORDER BY AverageInterestRate DESC;\n",
    "\"\"\"\n",
    "\n",
    "average_interest_rate = pd.read_sql_query(average_interest_rate_query, conn)\n",
    "average_interest_rate.to_csv('average_interest_rate_2022.csv', index=False)"
   ]
  },
  {
   "cell_type": "code",
   "execution_count": 29,
   "id": "1aa5f3c7-a567-41d2-ace6-47a94249912f",
   "metadata": {},
   "outputs": [
    {
     "data": {
      "text/plain": [
       "  Country Name  AverageInterestRate\n",
       "0      Turkiye               6.7996\n",
       "1   Azerbaijan               6.7818\n",
       "2       Brazil               6.4215\n",
       "3       Angola               5.2801\n",
       "4       Uganda               4.5918"
      ]
     },
     "execution_count": 29,
     "metadata": {},
     "output_type": "execute_result"
    }
   ],
   "source": [
    "average_interest_rate.head()"
   ]
  },
  {
   "cell_type": "markdown",
   "id": "be0938ea-e5af-4617-884f-5eea0348ae1f",
   "metadata": {},
   "source": [
    "### Determine the countries with the highest debt service on external debt (public and publicly guaranteed) in each year from 2019 to 2023, and display the country name, year, and debt service amount."
   ]
  },
  {
   "cell_type": "code",
   "execution_count": 30,
   "id": "a2568f98-f7ea-4fb0-a144-73746662cab0",
   "metadata": {},
   "outputs": [],
   "source": [
    "highest_debt_service_query = \"\"\"\n",
    "SELECT `Country Name`, \n",
    "       `2019` as DebtService2019,\n",
    "       `2020` as DebtService2020,\n",
    "       `2021` as DebtService2021,\n",
    "       `2022` as DebtService2022,\n",
    "       `2023` as DebtService2023\n",
    "FROM filtered_dataset\n",
    "WHERE `Series Code` = 'DT.TDS.DPPG.CD'\n",
    "ORDER BY DebtService2019 DESC, DebtService2020 DESC, DebtService2021 DESC, DebtService2022 DESC, DebtService2023 DESC;\n",
    "\"\"\"\n",
    "\n",
    "highest_debt_service = pd.read_sql_query(highest_debt_service_query, conn)\n",
    "highest_debt_service.to_csv('highest_debt_service.csv', index=False)"
   ]
  },
  {
   "cell_type": "code",
   "execution_count": 31,
   "id": "d19f1d94-883b-4da4-be04-d0c6bddad976",
   "metadata": {},
   "outputs": [
    {
     "data": {
      "text/plain": [
       "                                        Country Name  DebtService2019  \\\n",
       "0                                Low & middle income     3.840000e+11   \n",
       "1                                      Middle income     3.790000e+11   \n",
       "2                                Upper middle income     2.780000e+11   \n",
       "3  Latin America & Caribbean (excluding high income)     1.400000e+11   \n",
       "4                                Lower middle income     1.010000e+11   \n",
       "\n",
       "   DebtService2020  DebtService2021  DebtService2022  DebtService2023  \n",
       "0     3.990000e+11     4.070000e+11     4.140000e+11     4.330000e+11  \n",
       "1     3.940000e+11     4.000000e+11     4.080000e+11     4.230000e+11  \n",
       "2     2.870000e+11     2.910000e+11     2.990000e+11     2.750000e+11  \n",
       "3     1.090000e+11     1.150000e+11     9.078931e+10     1.150000e+11  \n",
       "4     1.070000e+11     1.100000e+11     1.090000e+11     1.490000e+11  "
      ]
     },
     "execution_count": 31,
     "metadata": {},
     "output_type": "execute_result"
    }
   ],
   "source": [
    "highest_debt_service.head()"
   ]
  },
  {
   "cell_type": "markdown",
   "id": "b32ea520-92cb-4650-9919-0dbfdea7f312",
   "metadata": {},
   "source": [
    "### Find the countries with the largest percentage increase in external debt stocks between 2019 and 2022, and show the percentage change alongside the actual debt stock values for those two years."
   ]
  },
  {
   "cell_type": "code",
   "execution_count": 32,
   "id": "c8625e2d-9c28-4d3d-b35f-47d2f37fec58",
   "metadata": {},
   "outputs": [],
   "source": [
    "debt_stock_increase_query = \"\"\"\n",
    "SELECT `Country Name`, \n",
    "       `2019` as DebtStock2019,\n",
    "       `2022` as DebtStock2022,\n",
    "       (`2022` - `2019`) / `2019` * 100 as PercentageIncrease\n",
    "FROM filtered_dataset\n",
    "WHERE `Series Code` = 'DT.DOD.DECT.CD' AND `2019` > 0\n",
    "ORDER BY PercentageIncrease DESC;\n",
    "\"\"\"\n",
    "\n",
    "debt_stock_increase = pd.read_sql_query(debt_stock_increase_query, conn)\n",
    "debt_stock_increase.to_csv('debt_stock_increase.csv', index=False)"
   ]
  },
  {
   "cell_type": "code",
   "execution_count": 33,
   "id": "ad755279-c09e-4922-96ce-170dc521cbed",
   "metadata": {},
   "outputs": [
    {
     "data": {
      "text/plain": [
       "         Country Name  DebtStock2019  DebtStock2022  PercentageIncrease\n",
       "0          Uzbekistan   2.295738e+10   4.909947e+10          113.872247\n",
       "1  Iran, Islamic Rep.   4.855393e+09   9.950397e+09          104.934950\n",
       "2                Fiji   1.344387e+09   2.536846e+09           88.699144\n",
       "3               Benin   3.919943e+09   7.307162e+09           86.409910\n",
       "4             Senegal   1.924302e+10   3.212624e+10           66.950113"
      ]
     },
     "execution_count": 33,
     "metadata": {},
     "output_type": "execute_result"
    }
   ],
   "source": [
    "debt_stock_increase.head()"
   ]
  },
  {
   "cell_type": "markdown",
   "id": "d20a67ba-7b68-4cec-90a4-db2c7846b823",
   "metadata": {},
   "source": [
    "### Calculate the average interest payments on external debt for each country over the last 5 years."
   ]
  },
  {
   "cell_type": "code",
   "execution_count": 34,
   "id": "9e6e7666-ec4f-4cb2-a1dd-bbedf09ea28b",
   "metadata": {},
   "outputs": [],
   "source": [
    "public_sector_debt_query = \"\"\"\n",
    "SELECT `Country Name`,\n",
    "       MAX(CASE WHEN `Series Code` = 'DT.DOD.PUBS.CD' THEN `2023` END) as LongTermPublicSectorDebt,\n",
    "       MAX(CASE WHEN `Series Code` = 'DT.DOD.DECT.CD' THEN `2023` END) as TotalExternalDebtStocks,\n",
    "       MAX(CASE WHEN `Series Code` = 'DT.DOD.PUBS.CD' THEN `2023` END) / \n",
    "       MAX(CASE WHEN `Series Code` = 'DT.DOD.DECT.CD' THEN `2023` END) * 100 as PublicSectorDebtPercentage\n",
    "FROM filtered_dataset\n",
    "WHERE `Series Code` IN ('DT.DOD.PUBS.CD', 'DT.DOD.DECT.CD')\n",
    "  AND `2023` IS NOT NULL\n",
    "GROUP BY `Country Name`\n",
    "HAVING PublicSectorDebtPercentage IS NOT NULL\n",
    "ORDER BY PublicSectorDebtPercentage DESC;\n",
    "\"\"\"\n",
    "\n",
    "public_sector_debt = pd.read_sql_query(public_sector_debt_query, conn)\n",
    "public_sector_debt.to_csv('public_sector_debt.csv', index=False)"
   ]
  },
  {
   "cell_type": "code",
   "execution_count": 35,
   "id": "c51d1352-deb8-4f88-b763-b0d64e68de79",
   "metadata": {},
   "outputs": [],
   "source": [
    "interest_payments_query = \"\"\"\n",
    "SELECT `Country Name`,\n",
    "       AVG(CASE WHEN `Series Code` = 'DT.INT.DECT.CD' THEN `2019` END) as InterestPayments2019,\n",
    "       AVG(CASE WHEN `Series Code` = 'DT.INT.DECT.CD' THEN `2020` END) as InterestPayments2020,\n",
    "       AVG(CASE WHEN `Series Code` = 'DT.INT.DECT.CD' THEN `2021` END) as InterestPayments2021,\n",
    "       AVG(CASE WHEN `Series Code` = 'DT.INT.DECT.CD' THEN `2022` END) as InterestPayments2022,\n",
    "       AVG(CASE WHEN `Series Code` = 'DT.INT.DECT.CD' THEN `2023` END) as InterestPayments2023\n",
    "FROM filtered_dataset\n",
    "WHERE `Series Code` = 'DT.INT.DECT.CD'\n",
    "GROUP BY `Country Name`;\n",
    "\"\"\"\n",
    "\n",
    "interest_payments = pd.read_sql_query(interest_payments_query, conn)\n",
    "interest_payments.to_csv('interest_payments.csv', index=False)"
   ]
  },
  {
   "cell_type": "code",
   "execution_count": 36,
   "id": "4cc8a468-73c0-4141-b92e-82053bed3f43",
   "metadata": {},
   "outputs": [
    {
     "data": {
      "text/plain": [
       "  Country Name  InterestPayments2019  InterestPayments2020  \\\n",
       "0  Afghanistan          1.478334e+07          1.033427e+07   \n",
       "1      Albania          1.220046e+08          1.569420e+08   \n",
       "2      Algeria          7.703609e+07          5.648126e+07   \n",
       "3       Angola          2.928890e+09          2.682127e+09   \n",
       "4    Argentina          1.402283e+10          7.725405e+09   \n",
       "\n",
       "   InterestPayments2021  InterestPayments2022 InterestPayments2023  \n",
       "0          6.814868e+06          1.161951e+07                 None  \n",
       "1          1.275979e+08          1.658121e+08                 None  \n",
       "2          4.559694e+07          1.466356e+08                 None  \n",
       "3          2.350153e+09          2.757731e+09                 None  \n",
       "4          5.475223e+09          7.046464e+09                 None  "
      ]
     },
     "execution_count": 36,
     "metadata": {},
     "output_type": "execute_result"
    }
   ],
   "source": [
    "interest_payments.head()"
   ]
  },
  {
   "cell_type": "markdown",
   "id": "5c74ac28-4a4f-49a3-96f3-459eb7c1a0cb",
   "metadata": {},
   "source": [
    "### Find the countries with the highest debt service on private nonguaranteed external debt in the most recent year."
   ]
  },
  {
   "cell_type": "code",
   "execution_count": 37,
   "id": "a1fbc33e-e289-4164-9552-280710c52dd6",
   "metadata": {},
   "outputs": [
    {
     "data": {
      "text/plain": [
       "Empty DataFrame\n",
       "Columns: [Country Name, LongTermPublicSectorDebt, TotalExternalDebtStocks, PublicSectorDebtPercentage]\n",
       "Index: []"
      ]
     },
     "execution_count": 37,
     "metadata": {},
     "output_type": "execute_result"
    }
   ],
   "source": [
    "public_sector_debt.head()"
   ]
  },
  {
   "cell_type": "code",
   "execution_count": 38,
   "id": "09b4883b-c5c3-4c64-9909-a0c9f4153e7e",
   "metadata": {},
   "outputs": [],
   "source": [
    "private_nonguaranteed_debt_query = \"\"\"\n",
    "SELECT `Country Name`,\n",
    "       MAX(CASE WHEN `Series Code` = 'DT.TDS.DPNG.CD' THEN `2023` END) as PrivateNonguaranteedDebtService\n",
    "FROM filtered_dataset\n",
    "WHERE `Series Code` = 'DT.TDS.DPNG.CD'\n",
    "GROUP BY `Country Name`\n",
    "ORDER BY PrivateNonguaranteedDebtService DESC\n",
    "LIMIT 10;\n",
    "\"\"\"\n",
    "\n",
    "private_nonguaranteed_debt = pd.read_sql_query(private_nonguaranteed_debt_query, conn)\n",
    "private_nonguaranteed_debt.to_csv('private_nonguaranteed_debt.csv', index=False)"
   ]
  },
  {
   "cell_type": "code",
   "execution_count": 39,
   "id": "a20ccac1-ce7b-468f-b51c-affeee928c6c",
   "metadata": {},
   "outputs": [
    {
     "data": {
      "text/plain": [
       "                                        Country Name  \\\n",
       "0                                Low & middle income   \n",
       "1                                      Middle income   \n",
       "2                                Upper middle income   \n",
       "3        East Asia & Pacific (excluding high income)   \n",
       "4  Latin America & Caribbean (excluding high income)   \n",
       "\n",
       "   PrivateNonguaranteedDebtService  \n",
       "0                     6.820000e+11  \n",
       "1                     6.620000e+11  \n",
       "2                     5.310000e+11  \n",
       "3                     2.310000e+11  \n",
       "4                     1.870000e+11  "
      ]
     },
     "execution_count": 39,
     "metadata": {},
     "output_type": "execute_result"
    }
   ],
   "source": [
    "private_nonguaranteed_debt.head()"
   ]
  },
  {
   "cell_type": "markdown",
   "id": "0b0307f4-38ab-46b3-9c91-ba6f1f762659",
   "metadata": {},
   "source": [
    "### Calculate the average maturity of new external debt commitments for each country over the last 5 years."
   ]
  },
  {
   "cell_type": "code",
   "execution_count": null,
   "id": "17100732-d095-4342-b502-bc54aa5f21f5",
   "metadata": {},
   "outputs": [],
   "source": []
  },
  {
   "cell_type": "code",
   "execution_count": 40,
   "id": "791a5df2-d069-41cf-97d8-57ed604c1e80",
   "metadata": {},
   "outputs": [],
   "source": [
    "average_maturity_query = \"\"\"\n",
    "SELECT `Country Name`,\n",
    "       AVG(CASE WHEN `Series Code` = 'DT.MAT.DPPG' THEN `2019` END) as AverageMaturity2019,\n",
    "       AVG(CASE WHEN `Series Code` = 'DT.MAT.DPPG' THEN `2020` END) as AverageMaturity2020,\n",
    "       AVG(CASE WHEN `Series Code` = 'DT.MAT.DPPG' THEN `2021` END) as AverageMaturity2021,\n",
    "       AVG(CASE WHEN `Series Code` = 'DT.MAT.DPPG' THEN `2022` END) as AverageMaturity2022,\n",
    "       AVG(CASE WHEN `Series Code` = 'DT.MAT.DPPG' THEN `2023` END) as AverageMaturity2023\n",
    "FROM filtered_dataset\n",
    "WHERE `Series Code` = 'DT.MAT.DPPG'\n",
    "GROUP BY `Country Name`;\n",
    "\"\"\"\n",
    "\n",
    "average_maturity = pd.read_sql_query(average_maturity_query, conn)\n",
    "average_maturity.to_csv('average_maturity.csv', index=False)"
   ]
  },
  {
   "cell_type": "code",
   "execution_count": 41,
   "id": "4c6968c5-3682-4729-a140-1e2c9fc0e93b",
   "metadata": {},
   "outputs": [
    {
     "data": {
      "text/plain": [
       "  Country Name  AverageMaturity2019  AverageMaturity2020  AverageMaturity2021  \\\n",
       "0  Afghanistan              39.8333               0.0000               0.0000   \n",
       "1      Albania              16.0725              10.3369              11.7437   \n",
       "2      Algeria               0.0000               0.0000               0.0000   \n",
       "3       Angola              17.4795              11.9531               9.8551   \n",
       "4    Argentina              13.2264               5.7568              21.4875   \n",
       "\n",
       "   AverageMaturity2022 AverageMaturity2023  \n",
       "0               0.0000                None  \n",
       "1              17.4505                None  \n",
       "2               0.0000                None  \n",
       "3              10.7593                None  \n",
       "4               6.7254                None  "
      ]
     },
     "execution_count": 41,
     "metadata": {},
     "output_type": "execute_result"
    }
   ],
   "source": [
    "average_maturity.head()"
   ]
  },
  {
   "cell_type": "markdown",
   "id": "05fb3391-f8a9-49fe-a357-cc0c09132209",
   "metadata": {},
   "source": [
    "### Find the countries with a concessional debt percentage higher than 50% in 2021"
   ]
  },
  {
   "cell_type": "code",
   "execution_count": 42,
   "id": "203ebd56-37af-4408-8c29-99c2b84c43e4",
   "metadata": {},
   "outputs": [
    {
     "data": {
      "text/plain": [
       "  Country Name  ConcessionalDebtPercentage\n",
       "0      Comoros                     72.4457\n",
       "1      Eritrea                     84.1525\n",
       "2        Haiti                     76.2317\n",
       "3   Madagascar                     56.2520\n",
       "4       Malawi                     61.6865"
      ]
     },
     "execution_count": 42,
     "metadata": {},
     "output_type": "execute_result"
    }
   ],
   "source": [
    "high_concessional_debt_query = \"\"\"\n",
    "SELECT `Country Name`, `2021` as ConcessionalDebtPercentage\n",
    "FROM filtered_dataset\n",
    "WHERE `Series Code` = 'DT.DOD.ALLC.ZS' AND `2021` > 50;\n",
    "\"\"\"\n",
    "\n",
    "high_concessional_debt = pd.read_sql_query(high_concessional_debt_query, conn)\n",
    "high_concessional_debt.to_csv('high_concessional_debt.csv', index=False)\n",
    "high_concessional_debt.head()"
   ]
  },
  {
   "cell_type": "markdown",
   "id": "215db5f8-e549-4c46-8bb6-b2e2509a1bff",
   "metadata": {},
   "source": [
    "### Find the countries with the highest percentage of debt in U.S. dollars in 2022."
   ]
  },
  {
   "cell_type": "code",
   "execution_count": 43,
   "id": "36021908-c0de-4f85-94f0-94e6082c78d1",
   "metadata": {},
   "outputs": [
    {
     "data": {
      "text/plain": [
       "  Country Name  USDDebtPercentage\n",
       "0      Jamaica            98.9628\n",
       "1     Paraguay            98.7167\n",
       "2       Belize            98.5601\n",
       "3    St. Lucia            98.5267\n",
       "4        Haiti            98.2848"
      ]
     },
     "execution_count": 43,
     "metadata": {},
     "output_type": "execute_result"
    }
   ],
   "source": [
    "highest_usd_debt_query = \"\"\"\n",
    "SELECT `Country Name`, `2022` as USDDebtPercentage\n",
    "FROM filtered_dataset\n",
    "WHERE `Series Code` = 'DT.CUR.USDL.ZS'\n",
    "ORDER BY `2022` DESC\n",
    "LIMIT 5;\n",
    "\"\"\"\n",
    "\n",
    "highest_usd_debt = pd.read_sql_query(highest_usd_debt_query, conn)\n",
    "highest_usd_debt.to_csv('highest_usd_debt.csv', index=False)\n",
    "highest_usd_debt.head()"
   ]
  },
  {
   "cell_type": "markdown",
   "id": "d99b2db8-a882-4eaf-9be4-09949a2d7039",
   "metadata": {},
   "source": [
    "### Calculate the year-over-year change in external debt stocks for each country between 2021 and 2022."
   ]
  },
  {
   "cell_type": "code",
   "execution_count": 44,
   "id": "48b891aa-3ec9-4bed-825d-13fffda87017",
   "metadata": {},
   "outputs": [
    {
     "data": {
      "text/plain": [
       "  Country Name  DebtStocksChange\n",
       "0  Afghanistan     -1.625371e+08\n",
       "1      Albania     -5.998881e+08\n",
       "2      Algeria     -2.495218e+08\n",
       "3       Angola     -5.980100e+09\n",
       "4    Argentina      2.000000e+09"
      ]
     },
     "execution_count": 44,
     "metadata": {},
     "output_type": "execute_result"
    }
   ],
   "source": [
    "debt_stocks_change_query = \"\"\"\n",
    "SELECT \n",
    "    fd1.`Country Name`,\n",
    "    fd1.`2022` - fd2.`2021` as DebtStocksChange\n",
    "FROM \n",
    "    filtered_dataset fd1\n",
    "    JOIN filtered_dataset fd2 ON fd1.`Country Name` = fd2.`Country Name`\n",
    "WHERE\n",
    "    fd1.`Series Code` = 'DT.DOD.DECT.CD' AND fd2.`Series Code` = 'DT.DOD.DECT.CD';\n",
    "\"\"\"\n",
    "\n",
    "debt_stocks_change = pd.read_sql_query(debt_stocks_change_query, conn)\n",
    "debt_stocks_change.to_csv('debt_stocks_change.csv', index=False)\n",
    "debt_stocks_change.head()"
   ]
  },
  {
   "cell_type": "markdown",
   "id": "80d19b46-d9bd-4640-ac24-1f6341017c6d",
   "metadata": {},
   "source": [
    "### Find the countries with the highest ratio of external debt stocks to exports of goods, services, and primary income in 2020."
   ]
  },
  {
   "cell_type": "code",
   "execution_count": 45,
   "id": "fe68d347-b263-451d-b719-c6b89f8fc31c",
   "metadata": {},
   "outputs": [
    {
     "data": {
      "text/plain": [
       "            Country Name  DebtToExportsRatio\n",
       "0             Mozambique         1280.194265\n",
       "1                Lebanon          664.586363\n",
       "2             Montenegro          602.949586\n",
       "3  Sao Tome and Principe          568.135445\n",
       "4            Gambia, The          506.456292"
      ]
     },
     "execution_count": 45,
     "metadata": {},
     "output_type": "execute_result"
    }
   ],
   "source": [
    "debt_to_exports_ratio_query = \"\"\"\n",
    "SELECT `Country Name`, `2020` as DebtToExportsRatio\n",
    "FROM filtered_dataset\n",
    "WHERE `Series Code` = 'DT.DOD.DECT.EX.ZS'\n",
    "ORDER BY `2020` DESC\n",
    "LIMIT 5;\n",
    "\"\"\"\n",
    "\n",
    "debt_to_exports_ratio = pd.read_sql_query(debt_to_exports_ratio_query, conn)\n",
    "debt_to_exports_ratio.to_csv('debt_to_exports_ratio.csv', index=False)\n",
    "debt_to_exports_ratio.head()"
   ]
  },
  {
   "cell_type": "markdown",
   "id": "c8e9c910-f35b-4b71-a4c4-97619c60ec79",
   "metadata": {},
   "source": [
    "### Calculate the average maturity on new external debt commitments for each country in the last 3 years (2021-2023)."
   ]
  },
  {
   "cell_type": "code",
   "execution_count": 46,
   "id": "47f3c590-83c0-4e77-bb41-4035c643578f",
   "metadata": {},
   "outputs": [
    {
     "data": {
      "text/plain": [
       "  Country Name  AvgMaturity2021  AvgMaturity2022 AvgMaturity2023\n",
       "0  Afghanistan           0.0000           0.0000            None\n",
       "1      Albania          11.7437          17.4505            None\n",
       "2      Algeria           0.0000           0.0000            None\n",
       "3       Angola           9.8551          10.7593            None\n",
       "4    Argentina          21.4875           6.7254            None"
      ]
     },
     "execution_count": 46,
     "metadata": {},
     "output_type": "execute_result"
    }
   ],
   "source": [
    "avg_maturity_query = \"\"\"\n",
    "SELECT \n",
    "    `Country Name`,\n",
    "    AVG(`2021`) as AvgMaturity2021,\n",
    "    AVG(`2022`) as AvgMaturity2022,\n",
    "    AVG(`2023`) as AvgMaturity2023\n",
    "FROM filtered_dataset\n",
    "WHERE `Series Code` = 'DT.MAT.DPPG'\n",
    "GROUP BY `Country Name`;\n",
    "\"\"\"\n",
    "\n",
    "avg_maturity = pd.read_sql_query(avg_maturity_query, conn)\n",
    "avg_maturity.to_csv('avg_maturity.csv', index=False)\n",
    "avg_maturity.head()"
   ]
  },
  {
   "cell_type": "markdown",
   "id": "3d2bdb47-6831-4697-ac23-9d4f1eec3f32",
   "metadata": {},
   "source": [
    "### Find the countries with the highest percentage of debt owed to private creditors in 2022."
   ]
  },
  {
   "cell_type": "code",
   "execution_count": 47,
   "id": "6d123cdf-293a-41a2-a7bc-a41149877830",
   "metadata": {},
   "outputs": [
    {
     "data": {
      "text/plain": [
       "         Country Name  PrivateCreditorsDebtPercentage\n",
       "0              Angola                       62.038694\n",
       "1  Dominican Republic                       58.182055\n",
       "2             Lebanon                       46.761816\n",
       "3        South Africa                       46.623297\n",
       "4       Cote d'Ivoire                       46.440690"
      ]
     },
     "execution_count": 47,
     "metadata": {},
     "output_type": "execute_result"
    }
   ],
   "source": [
    "private_creditors_debt_query = \"\"\"\n",
    "SELECT \n",
    "    fd1.`Country Name`,\n",
    "    fd1.`2022` / fd2.`2022` * 100 as PrivateCreditorsDebtPercentage\n",
    "FROM \n",
    "    filtered_dataset fd1\n",
    "    JOIN filtered_dataset fd2 ON fd1.`Country Name` = fd2.`Country Name`\n",
    "WHERE\n",
    "    fd1.`Series Code` = 'DT.DOD.PRVT.CD' AND fd2.`Series Code` = 'DT.DOD.DECT.CD'\n",
    "ORDER BY PrivateCreditorsDebtPercentage DESC\n",
    "LIMIT 5;\n",
    "\"\"\"\n",
    "\n",
    "private_creditors_debt = pd.read_sql_query(private_creditors_debt_query, conn)\n",
    "private_creditors_debt.to_csv('private_creditors_debt.csv', index=False)\n",
    "private_creditors_debt.head()"
   ]
  },
  {
   "cell_type": "markdown",
   "id": "6af01a79-33af-40e0-b2dd-6c5183a7233e",
   "metadata": {},
   "source": [
    "### Calculate the total debt service on long-term external debt for each country in the last 5 years (2019-2023)."
   ]
  },
  {
   "cell_type": "code",
   "execution_count": 48,
   "id": "0c2773e0-83d6-4753-b81b-53c2384cb3b0",
   "metadata": {},
   "outputs": [
    {
     "data": {
      "text/plain": [
       "  Country Name  DebtService2019  DebtService2020  DebtService2021  \\\n",
       "0  Afghanistan     3.980704e+07     3.455740e+07     1.923400e+07   \n",
       "1      Albania     6.095507e+08     1.093737e+09     8.074701e+08   \n",
       "2      Algeria     1.428169e+08     1.418812e+08     1.689630e+08   \n",
       "3       Angola     1.062271e+10     7.700514e+09     9.809415e+09   \n",
       "4    Argentina     4.134058e+10     2.729333e+10     1.996969e+10   \n",
       "\n",
       "   DebtService2022  DebtService2023  \n",
       "0     1.201700e+07     1.284251e+08  \n",
       "1     6.502827e+08     1.823996e+09  \n",
       "2     1.788039e+08     1.711290e+08  \n",
       "3     1.508876e+10     1.288871e+10  \n",
       "4     1.311167e+10     4.279986e+10  "
      ]
     },
     "execution_count": 48,
     "metadata": {},
     "output_type": "execute_result"
    }
   ],
   "source": [
    "long_term_debt_service_query = \"\"\"\n",
    "SELECT \n",
    "    `Country Name`,\n",
    "    SUM(`2019`) as DebtService2019,\n",
    "    SUM(`2020`) as DebtService2020,\n",
    "    SUM(`2021`) as DebtService2021,\n",
    "    SUM(`2022`) as DebtService2022,\n",
    "    SUM(`2023`) as DebtService2023\n",
    "FROM filtered_dataset\n",
    "WHERE `Series Code` = 'DT.TDS.DLXF.CD'\n",
    "GROUP BY `Country Name`;\n",
    "\"\"\"\n",
    "\n",
    "long_term_debt_service = pd.read_sql_query(long_term_debt_service_query, conn)\n",
    "long_term_debt_service.to_csv('long_term_debt_service.csv', index=False)\n",
    "long_term_debt_service.head()"
   ]
  },
  {
   "cell_type": "markdown",
   "id": "b902af7b-26fc-4ebb-9827-f2a4e9cea3af",
   "metadata": {},
   "source": [
    "### Find the countries with the highest average interest rate on new external debt commitments from official creditors in 2021."
   ]
  },
  {
   "cell_type": "code",
   "execution_count": 49,
   "id": "befe36d6-2298-4052-b648-a05f9dad9456",
   "metadata": {},
   "outputs": [
    {
     "data": {
      "text/plain": [
       "   Country Name  AvgInterestRate\n",
       "0  South Africa           4.4540\n",
       "1         Gabon           4.1910\n",
       "2      Maldives           3.5677\n",
       "3  Turkmenistan           3.3092\n",
       "4       Vanuatu           3.0000"
      ]
     },
     "execution_count": 49,
     "metadata": {},
     "output_type": "execute_result"
    }
   ],
   "source": [
    "official_creditors_interest_query = \"\"\"\n",
    "SELECT `Country Name`, AVG(`2021`) as AvgInterestRate\n",
    "FROM filtered_dataset\n",
    "WHERE `Series Code` = 'DT.INR.OFFT'\n",
    "GROUP BY `Country Name`\n",
    "ORDER BY AvgInterestRate DESC\n",
    "LIMIT 5;\n",
    "\"\"\"\n",
    "\n",
    "official_creditors_interest = pd.read_sql_query(official_creditors_interest_query, conn)\n",
    "official_creditors_interest.to_csv('official_creditors_interest.csv', index=False)\n",
    "official_creditors_interest.head()"
   ]
  },
  {
   "cell_type": "code",
   "execution_count": null,
   "id": "b7108ef0-ca08-40dc-9327-dbf6c5e5a8ac",
   "metadata": {},
   "outputs": [],
   "source": []
  },
  {
   "cell_type": "code",
   "execution_count": 86,
   "id": "6e46fca4-6f55-412d-b0d4-166bff7a29a7",
   "metadata": {},
   "outputs": [],
   "source": [
    "import pandas as pd\n",
    "import seaborn as sns\n",
    "import matplotlib.pyplot as plt\n",
    "import random\n",
    "\n",
    "# Load data\n",
    "df = pd.read_csv(\"filtered_dataset.csv\")"
   ]
  },
  {
   "cell_type": "markdown",
   "id": "f9dd2718-b1e3-46d4-b821-e7818d47933c",
   "metadata": {},
   "source": [
    "### Debt Service Trends over Time for India"
   ]
  },
  {
   "cell_type": "code",
   "execution_count": 87,
   "id": "40153aad-cb25-40e8-91b6-e82330676687",
   "metadata": {},
   "outputs": [
    {
     "data": {
      "image/png": "[encoded data removed]",
      "text/plain": [
       "<Figure size 640x480 with 1 Axes>"
      ]
     },
     "metadata": {},
     "output_type": "display_data"
    }
   ],
   "source": [
    "india_data = df[df[\"Country Name\"] == \"India\"]\n",
    "series_codes = india_data[\"Series Code\"].unique()\n",
    "\n",
    "random_series_code = random.choice(series_codes)\n",
    "\n",
    "selected_data = india_data[india_data[\"Series Code\"] == random_series_code]\n",
    "debt_service_data = selected_data.iloc[:, 4:]  # Select columns from the 5th column onwards\n",
    "debt_service_data[\"Series Name\"] = selected_data[\"Series Name\"]\n",
    "debt_service_data = debt_service_data.melt(id_vars=[\"Series Name\"], var_name=\"Year\", value_name=\"Debt Service\")\n",
    "\n",
    "# Create line plot\n",
    "sns.lineplot(x=\"Year\", y=\"Debt Service\", data=debt_service_data)\n",
    "plt.title(f\"Debt Service Trend for {selected_data['Series Name'].iloc[0]} in India\")\n",
    "plt.show()"
   ]
  },
  {
   "cell_type": "markdown",
   "id": "049278f1-726a-4bdf-a967-03f32e88b649",
   "metadata": {},
   "source": [
    "### Line graph - Year-wise comparison of Average grace period on new external debt commitments (years) for multiple countries"
   ]
  },
  {
   "cell_type": "code",
   "execution_count": 88,
   "id": "97ac665d-6da0-4bac-9eb0-bcaa33977289",
   "metadata": {},
   "outputs": [
    {
     "data": {
      "image/png": "[encoded data removed]",
      "text/plain": [
       "<Figure size 1000x600 with 1 Axes>"
      ]
     },
     "metadata": {},
     "output_type": "display_data"
    }
   ],
   "source": [
    "countries = ['Afghanistan', 'Albania', 'Angola']  # Select countries of interest\n",
    "series_code = 'DT.GPA.DPPG'  # Series code for Average grace period on new external debt commitments (years)\n",
    "\n",
    "plt.figure(figsize=(10, 6))\n",
    "for country in countries:\n",
    "    data = df[(df['Country Name'] == country) & (df['Series Code'] == series_code)]\n",
    "    plt.plot(data.columns[4:], data.iloc[0, 4:], label=country)\n",
    "\n",
    "plt.xlabel('Year')\n",
    "plt.ylabel('Average grace period (years)')\n",
    "plt.title('Average grace period on new external debt commitments')\n",
    "plt.legend()\n",
    "plt.show()"
   ]
  },
  {
   "cell_type": "markdown",
   "id": "ea64aac4-1ab7-4759-a6fa-1b1fac7317db",
   "metadata": {},
   "source": [
    "### Stacked bar graph - Comparison of Currency composition of PPG debt for a specific country across different years"
   ]
  },
  {
   "cell_type": "code",
   "execution_count": 78,
   "id": "8b3b1625-06c3-4368-be59-929cc666ed58",
   "metadata": {},
   "outputs": [
    {
     "data": {
      "text/plain": [
       "<Figure size 1000x600 with 0 Axes>"
      ]
     },
     "metadata": {},
     "output_type": "display_data"
    },
    {
     "data": {
      "image/png": "[encoded data removed]",
      "text/plain": [
       "<Figure size 640x480 with 1 Axes>"
      ]
     },
     "metadata": {},
     "output_type": "display_data"
    }
   ],
   "source": [
    "country = 'India'  # Select a country\n",
    "currency_codes = ['DT.CUR.EURO.ZS', 'DT.CUR.JYEN.ZS', 'DT.CUR.UKPS.ZS', 'DT.CUR.USDL.ZS']  # Select currency codes\n",
    "years = ['2019', '2020', '2021', '2022']  # Select years of interest\n",
    "\n",
    "data = df[(df['Country Name'] == country) & (df['Series Code'].isin(currency_codes))]\n",
    "data = data[['Series Code'] + years].set_index('Series Code')\n",
    "data = data.T\n",
    "\n",
    "plt.figure(figsize=(10, 6))\n",
    "data.plot(kind='bar', stacked=True)\n",
    "plt.xlabel('Year')\n",
    "plt.ylabel('Currency Composition (%)')\n",
    "plt.title(f'Currency Composition of PPG Debt for {country}')\n",
    "plt.legend(title='Currency')\n",
    "plt.show()"
   ]
  },
  {
   "cell_type": "markdown",
   "id": "c83cef2b-7b8e-4b9f-abb9-62866fcb98a1",
   "metadata": {},
   "source": [
    "### Area chart - Evolution of External debt stocks (% of GNI) over time for a selected country"
   ]
  },
  {
   "cell_type": "code",
   "execution_count": 84,
   "id": "f2902c89-430b-4731-9d9f-a0398622e665",
   "metadata": {},
   "outputs": [
    {
     "data": {
      "image/png": "[encoded data removed]",
      "text/plain": [
       "<Figure size 1000x600 with 1 Axes>"
      ]
     },
     "metadata": {},
     "output_type": "display_data"
    }
   ],
   "source": [
    "country = 'Afghanistan'  # Select a country\n",
    "series_code = 'DT.DOD.DECT.GN.ZS'  # Series code for External debt stocks (% of GNI)\n",
    "\n",
    "data = df[(df['Country Name'] == country) & (df['Series Code'] == series_code)]\n",
    "years = data.columns[4:]\n",
    "values = data.iloc[0, 4:].astype(float)  # Convert values to float\n",
    "\n",
    "# Remove missing values\n",
    "valid_mask = ~values.isnull()\n",
    "years = years[valid_mask]\n",
    "values = values[valid_mask]\n",
    "\n",
    "plt.figure(figsize=(10, 6))\n",
    "plt.plot(years, values, marker='o')\n",
    "plt.fill_between(years, values, alpha=0.3)\n",
    "plt.xlabel('Year')\n",
    "plt.ylabel('External debt stocks (% of GNI)')\n",
    "plt.title(f'Evolution of External debt stocks (% of GNI) for {country}')\n",
    "plt.show()"
   ]
  },
  {
   "cell_type": "markdown",
   "id": "f1606d83-d61b-4a11-929a-f398c330d2dc",
   "metadata": {},
   "source": [
    "### Grouped bar graph - Comparison of Disbursements on external debt from different sources for a chosen country in a specific year"
   ]
  },
  {
   "cell_type": "code",
   "execution_count": 82,
   "id": "30b310c7-abe2-4cf2-9e1e-8c68d54bac1e",
   "metadata": {},
   "outputs": [
    {
     "data": {
      "text/plain": [
       "<Figure size 1000x600 with 0 Axes>"
      ]
     },
     "metadata": {},
     "output_type": "display_data"
    },
    {
     "data": {
      "image/png": "[encoded data removed]",
      "text/plain": [
       "<Figure size 640x480 with 1 Axes>"
      ]
     },
     "metadata": {},
     "output_type": "display_data"
    }
   ],
   "source": [
    "country = 'India'  # Select a country\n",
    "year = '2022'  # Select a year\n",
    "sources = ['DT.DIS.DECB.CD', 'DT.DIS.DEGG.CD', 'DT.DIS.DOPS.CD', 'DT.DIS.DPNG.CD']  # Select source codes\n",
    "\n",
    "data = df[(df['Country Name'] == country) & (df['Series Code'].isin(sources))]\n",
    "data = data[['Series Code', year]].set_index('Series Code')\n",
    "\n",
    "plt.figure(figsize=(10, 6))\n",
    "data.plot(kind='bar')\n",
    "plt.xlabel('Source')\n",
    "plt.ylabel('Disbursements (current US$)')\n",
    "plt.title(f'Disbursements on external debt from different sources for {country} in {year}')\n",
    "plt.xticks(rotation=45)\n",
    "plt.show()"
   ]
  },
  {
   "cell_type": "markdown",
   "id": "4fffe34b-7ede-4bf6-8ea9-446992fbea64",
   "metadata": {},
   "source": [
    "### Pie chart - Breakdown of External debt stocks by creditor type for a selected country in the latest available year"
   ]
  },
  {
   "cell_type": "code",
   "execution_count": 85,
   "id": "25639d82-d78d-483d-bf63-3532f312b79a",
   "metadata": {},
   "outputs": [
    {
     "data": {
      "image/png": "[encoded data removed]",
      "text/plain": [
       "<Figure size 800x800 with 1 Axes>"
      ]
     },
     "metadata": {},
     "output_type": "display_data"
    }
   ],
   "source": [
    "country = 'India'  # Select a country\n",
    "year = '2022'  # Select the latest available year\n",
    "creditor_types = ['DT.DOD.BLAT.GG.CD', 'DT.DOD.MLAT.GG.CD', 'DT.DOD.PRVT.GG.CD']  # Select creditor type codes\n",
    "\n",
    "data = df[(df['Country Name'] == country) & (df['Series Code'].isin(creditor_types))]\n",
    "data = data[['Series Code', year]].set_index('Series Code')\n",
    "\n",
    "if not data.empty:\n",
    "    plt.figure(figsize=(8, 8))\n",
    "    plt.pie(data[year], labels=data.index, autopct='%1.1f%%')\n",
    "    plt.title(f'Breakdown of External debt stocks by creditor type for {country} in {year}')\n",
    "    plt.show()\n",
    "else:\n",
    "    print(f\"No data available for {country} in {year} for the selected creditor types.\")"
   ]
  },
  {
   "cell_type": "code",
   "execution_count": null,
   "id": "01c67580-bcae-478b-9bd4-66376dc3e881",
   "metadata": {},
   "outputs": [],
   "source": []
  }
 ],
 "metadata": {
  "kernelspec": {
   "display_name": "Python 3 (ipykernel)",
   "language": "python",
   "name": "python3"
  },
  "language_info": {
   "codemirror_mode": {
    "name": "ipython",
    "version": 3
   },
   "file_extension": ".py",
   "mimetype": "text/x-python",
   "name": "python",
   "nbconvert_exporter": "python",
   "pygments_lexer": "ipython3",
   "version": "3.11.7"
  }
 },
 "nbformat": 4,
 "nbformat_minor": 5
}
